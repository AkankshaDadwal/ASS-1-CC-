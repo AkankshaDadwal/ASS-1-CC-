{
  "metadata": {
    "kernelspec": {
      "name": "",
      "display_name": ""
    },
    "language_info": {
      "name": ""
    },
    "colab": {
      "provenance": []
    }
  },
  "nbformat_minor": 5,
  "nbformat": 4,
  "cells": [
    {
      "cell_type": "markdown",
      "source": [
        " Assingment 1.1: WAP to print your name three times\n",
        "\n",
        "\n"
      ],
      "metadata": {
        "id": "mhfyWfQQv04U"
      },
      "id": "mhfyWfQQv04U"
    },
    {
      "cell_type": "code",
      "source": [
        "print(\"AKANKSHA\")\n",
        "print(\"AKANKSHA\")\n",
        "print(\"AKANKSHA\")"
      ],
      "metadata": {
        "colab": {
          "base_uri": "https://localhost:8080/"
        },
        "id": "D43ujETUGP2H",
        "outputId": "522bdd0d-382e-4fec-b375-f47d99e1330a"
      },
      "id": "D43ujETUGP2H",
      "execution_count": 19,
      "outputs": [
        {
          "output_type": "stream",
          "name": "stdout",
          "text": [
            "AKANKSHA\n",
            "AKANKSHA\n",
            "AKANKSHA\n"
          ]
        }
      ]
    },
    {
      "cell_type": "markdown",
      "source": [
        "question 2 SUM OF TWO NUMBERS :\n"
      ],
      "metadata": {
        "id": "7UYw4lcmv54L"
      },
      "id": "7UYw4lcmv54L"
    },
    {
      "cell_type": "code",
      "source": [
        "a =10\n",
        "b =20\n",
        "c= a+b\n",
        "print(a,\"+\", b,\"--->\",c)"
      ],
      "metadata": {
        "id": "TtI8y4U9v7K3",
        "colab": {
          "base_uri": "https://localhost:8080/"
        },
        "outputId": "2a705b84-7606-40ea-bc0a-ae818eaa2134"
      },
      "id": "TtI8y4U9v7K3",
      "execution_count": 2,
      "outputs": [
        {
          "output_type": "stream",
          "name": "stdout",
          "text": [
            "10 + 20 ---> 30\n"
          ]
        }
      ]
    },
    {
      "cell_type": "markdown",
      "source": [
        "question 3 WAP to concatinate three strings and print the result:"
      ],
      "metadata": {
        "id": "KIiqrNr8BfbJ"
      },
      "id": "KIiqrNr8BfbJ"
    },
    {
      "cell_type": "code",
      "source": [
        "a= \"ramesh\"\n",
        "b= \"suresh\"\n",
        "c=\"ram\"\n",
        "d=a+b+c\n",
        "print(a,\"+\", b,\"+\", c,\"---->\",d)"
      ],
      "metadata": {
        "colab": {
          "base_uri": "https://localhost:8080/"
        },
        "id": "W04Pirs2BeZl",
        "outputId": "76c7d011-dfe8-4502-aff6-c12ffbd88ae8"
      },
      "id": "W04Pirs2BeZl",
      "execution_count": 3,
      "outputs": [
        {
          "output_type": "stream",
          "name": "stdout",
          "text": [
            "ramesh + suresh + ram ----> rameshsureshram\n"
          ]
        }
      ]
    },
    {
      "cell_type": "markdown",
      "source": [
        "question 4 WAP to print the table of 7, 9"
      ],
      "metadata": {
        "id": "8BoEuzjVCHdQ"
      },
      "id": "8BoEuzjVCHdQ"
    },
    {
      "cell_type": "code",
      "source": [
        "for i in range (1,11):\n",
        " print(7,\"*\",i,\"=\",i*7)\n",
        "\n",
        "for i in range (1,11):\n",
        " print(9, \"*\",i,\"=\",i*9)"
      ],
      "metadata": {
        "colab": {
          "base_uri": "https://localhost:8080/"
        },
        "id": "KIovoemvCEAM",
        "outputId": "8fd0c0e3-0ae4-4bd2-892c-820c16b222c2"
      },
      "id": "KIovoemvCEAM",
      "execution_count": 4,
      "outputs": [
        {
          "output_type": "stream",
          "name": "stdout",
          "text": [
            "7 * 1 = 7\n",
            "7 * 2 = 14\n",
            "7 * 3 = 21\n",
            "7 * 4 = 28\n",
            "7 * 5 = 35\n",
            "7 * 6 = 42\n",
            "7 * 7 = 49\n",
            "7 * 8 = 56\n",
            "7 * 9 = 63\n",
            "7 * 10 = 70\n",
            "9 * 1 = 9\n",
            "9 * 2 = 18\n",
            "9 * 3 = 27\n",
            "9 * 4 = 36\n",
            "9 * 5 = 45\n",
            "9 * 6 = 54\n",
            "9 * 7 = 63\n",
            "9 * 8 = 72\n",
            "9 * 9 = 81\n",
            "9 * 10 = 90\n"
          ]
        }
      ]
    },
    {
      "cell_type": "markdown",
      "source": [
        "question  5 WAP to print the table of n and n is given by user:"
      ],
      "metadata": {
        "id": "wFN0pxwyCWu2"
      },
      "id": "wFN0pxwyCWu2"
    },
    {
      "cell_type": "code",
      "source": [
        "a = int(input(\"first number\"))\n",
        "\n",
        "b = int(input(\"first number\"))\n",
        "if a == b:\n",
        "\tprint (\"a == b\")\n",
        "elif a >= b:\n",
        "\tprint (\"a > b\")\n",
        "else:\n",
        "\tprint (\"a < b\")"
      ],
      "metadata": {
        "colab": {
          "base_uri": "https://localhost:8080/"
        },
        "id": "bxVAdaj-CWYY",
        "outputId": "feb84aa1-f4b4-45d9-8286-197c58a1d7d9"
      },
      "id": "bxVAdaj-CWYY",
      "execution_count": 5,
      "outputs": [
        {
          "output_type": "stream",
          "name": "stdout",
          "text": [
            "first number5\n",
            "first number6\n",
            "a < b\n"
          ]
        }
      ]
    },
    {
      "cell_type": "markdown",
      "source": [
        "question 6 WAP to add all the numbers from 1 to n and n is given by user."
      ],
      "metadata": {
        "id": "Y28SnDBECjsz"
      },
      "id": "Y28SnDBECjsz"
    },
    {
      "cell_type": "code",
      "source": [
        "def sum_of_odds(n):\n",
        "  return sum(number for number in range(1, n + 1) if number % 2 != 0)\n",
        "\n",
        "n = input(\"Enter a positive integer: \")\n",
        "if n.isdigit() and int(n) > 0:\n",
        "  n = int(n)\n",
        "  print(f\"The sum of all odd numbers from 1 to {n} is: {sum_of_odds(n)}\")\n",
        "else:\n",
        "  print(\"Invalid input! Please enter a positive integer.\")"
      ],
      "metadata": {
        "colab": {
          "base_uri": "https://localhost:8080/"
        },
        "id": "GgvPHSxBCjQh",
        "outputId": "b4b4d438-1818-46bf-a656-c26e5fe42fca"
      },
      "id": "GgvPHSxBCjQh",
      "execution_count": 6,
      "outputs": [
        {
          "output_type": "stream",
          "name": "stdout",
          "text": [
            "Enter a positive integer: 9\n",
            "The sum of all odd numbers from 1 to 9 is: 25\n"
          ]
        }
      ]
    },
    {
      "cell_type": "markdown",
      "source": [
        "question 7 WAP to find max amoung three numbers and input from user"
      ],
      "metadata": {
        "id": "I88cjq7xDSct"
      },
      "id": "I88cjq7xDSct"
    },
    {
      "cell_type": "code",
      "source": [
        "\n",
        "def sum_of_numbers_divisible_by_7_and_9(n):\n",
        "    total_sum = 0\n",
        "    for i in range(1, n+1):\n",
        "        if i % 7 == 0 and i % 9 == 0:\n",
        "            total_sum += i\n",
        "    return total_sum\n",
        "\n",
        "n = int(input(\"Enter the value of n: \"))\n",
        "\n",
        "result = sum_of_numbers_divisible_by_7_and_9(n)\n",
        "print(f\"The sum of all numbers divisible by 7 and 9 from 1 to {n} is: {result}\")"
      ],
      "metadata": {
        "colab": {
          "base_uri": "https://localhost:8080/"
        },
        "id": "IOJLsFqRDSKe",
        "outputId": "08cc6399-9e20-4ae7-cbfe-db33be8a9df4"
      },
      "id": "IOJLsFqRDSKe",
      "execution_count": 7,
      "outputs": [
        {
          "output_type": "stream",
          "name": "stdout",
          "text": [
            "Enter the value of n:  10\n",
            "The sum of all numbers divisible by 7 and 9 from 1 to 10 is: 0\n"
          ]
        }
      ]
    },
    {
      "cell_type": "markdown",
      "source": [
        "question 8 WAP to add all numbers divisible by 7 and 9 from 1 to n and n is given by the user"
      ],
      "metadata": {
        "id": "jF00UsteDyT3"
      },
      "id": "jF00UsteDyT3"
    },
    {
      "cell_type": "code",
      "source": [
        "\n",
        "def is_prime(num):\n",
        "    if num <= 1:\n",
        "        return False\n",
        "    for i in range(2, num):\n",
        "        if num % i == 0:\n",
        "            return False\n",
        "    return True"
      ],
      "metadata": {
        "id": "gnm9EZXrDx__"
      },
      "id": "gnm9EZXrDx__",
      "execution_count": 9,
      "outputs": []
    },
    {
      "cell_type": "markdown",
      "source": [
        "question 9 WAP to add all prime numbers from 1 to n and n is given by the user"
      ],
      "metadata": {
        "id": "FKoBy7qxEOaS"
      },
      "id": "FKoBy7qxEOaS"
    },
    {
      "cell_type": "code",
      "source": [
        "def sum_of_primes(n):\n",
        "    total_sum = 0\n",
        "    for i in range(1, n+1):\n",
        "        if is_prime(i):\n",
        "            total_sum += i\n",
        "    return total_sum\n",
        "\n",
        "n =\n",
        "\n",
        "result = sum_of_primes(n)\n",
        "print(f\"The sum of all prime numbers from 1 to {n} is: {result}\")"
      ],
      "metadata": {
        "colab": {
          "base_uri": "https://localhost:8080/"
        },
        "id": "UKM4ISCbEOG4",
        "outputId": "478a3126-e5c0-4c67-f7bf-7b1007708d8b"
      },
      "id": "UKM4ISCbEOG4",
      "execution_count": 13,
      "outputs": [
        {
          "output_type": "stream",
          "name": "stdout",
          "text": [
            "The sum of all prime numbers from 1 to 5 is: 10\n"
          ]
        }
      ]
    },
    {
      "cell_type": "markdown",
      "source": [
        "question 10 WAP using function that add all odd numbers from 1 to n, n is given by the user."
      ],
      "metadata": {
        "id": "W8I59ktSEc0G"
      },
      "id": "W8I59ktSEc0G"
    },
    {
      "cell_type": "code",
      "source": [
        "def sum_of_primes(n):\n",
        "    total_sum = 0\n",
        "    for i in range(1, n+1):\n",
        "        if is_prime(i):\n",
        "            total_sum += i\n",
        "    return total_sum\n",
        "\n",
        "n = int(input(\"Enter the value of n: \"))\n",
        "\n",
        "\n",
        "result = sum_of_primes(n)\n",
        "print(f\"The sum of all prime numbers from 1 to {n} is: {result}\")\n"
      ],
      "metadata": {
        "colab": {
          "base_uri": "https://localhost:8080/"
        },
        "id": "V-fZb376EcfQ",
        "outputId": "87ed316a-5a96-461c-cae3-b124dae21ce4"
      },
      "id": "V-fZb376EcfQ",
      "execution_count": 16,
      "outputs": [
        {
          "output_type": "stream",
          "name": "stdout",
          "text": [
            "Enter the value of n: 5\n",
            "The sum of all prime numbers from 1 to 5 is: 10\n"
          ]
        }
      ]
    },
    {
      "cell_type": "markdown",
      "source": [
        "question 11 WAP using function that add all prime numbers from 1 to n, n given by the user."
      ],
      "metadata": {
        "id": "kBkWqy0sFs9J"
      },
      "id": "kBkWqy0sFs9J"
    },
    {
      "cell_type": "code",
      "source": [
        "def sum_of_primes(n):\n",
        "    total_sum = 0\n",
        "    for i in range(1, n+1):\n",
        "        if is_prime(i):\n",
        "            total_sum += i\n",
        "    return total_sum\n",
        "\n",
        "n = int(input(\"Enter the value of n: \"))\n",
        "\n",
        "result = sum_of_primes(n)\n",
        "print(f\"The sum of all prime numbers from 1 to {n} is: {result}\")"
      ],
      "metadata": {
        "colab": {
          "base_uri": "https://localhost:8080/"
        },
        "id": "iBSvGTGHFssV",
        "outputId": "fb9144ad-5570-425d-aa5b-232f3874f529"
      },
      "id": "iBSvGTGHFssV",
      "execution_count": 18,
      "outputs": [
        {
          "output_type": "stream",
          "name": "stdout",
          "text": [
            "Enter the value of n: 78\n",
            "The sum of all prime numbers from 1 to 78 is: 712\n"
          ]
        }
      ]
    }
  ]
}