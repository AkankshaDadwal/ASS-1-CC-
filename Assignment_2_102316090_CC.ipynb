{
  "nbformat": 4,
  "nbformat_minor": 0,
  "metadata": {
    "colab": {
      "provenance": []
    },
    "kernelspec": {
      "name": "python3",
      "display_name": "Python 3"
    },
    "language_info": {
      "name": "python"
    }
  },
  "cells": [
    {
      "cell_type": "markdown",
      "source": [
        "Create a List L that is defined as= [10, 20, 30, 40, 50, 60, 70, 80].\n",
        "\n",
        "i. WAP to add 200 and 300 to L"
      ],
      "metadata": {
        "id": "tsIB5r7kHNxj"
      }
    },
    {
      "cell_type": "code",
      "execution_count": 2,
      "metadata": {
        "colab": {
          "base_uri": "https://localhost:8080/"
        },
        "id": "8un2iTxLHFXy",
        "outputId": "64c8054d-8bcc-4d66-baa3-a6d268f70227"
      },
      "outputs": [
        {
          "output_type": "stream",
          "name": "stdout",
          "text": [
            "[10, 20, 30, 40, 50, 60, 70, 80, 200, 300]\n"
          ]
        }
      ],
      "source": [
        "L = [10, 20, 30, 40, 50, 60, 70, 80]\n",
        "\n",
        "L.append(200)\n",
        "L.append(300)\n",
        "\n",
        "print(L)\n"
      ]
    },
    {
      "cell_type": "markdown",
      "source": [
        "ii. WAP to remove 10 and 30 from L."
      ],
      "metadata": {
        "id": "EznDM0dQI4cC"
      }
    },
    {
      "cell_type": "code",
      "source": [
        "L = [10, 20, 30, 40, 50, 60, 70, 80]\n",
        "L.remove(10)\n",
        "L.remove(30)\n",
        "print(L)"
      ],
      "metadata": {
        "colab": {
          "base_uri": "https://localhost:8080/"
        },
        "id": "tvepZ0eLI3-a",
        "outputId": "d4602d8f-8970-43f6-e3f0-ff61456ee69f"
      },
      "execution_count": 3,
      "outputs": [
        {
          "output_type": "stream",
          "name": "stdout",
          "text": [
            "[20, 40, 50, 60, 70, 80]\n"
          ]
        }
      ]
    },
    {
      "cell_type": "markdown",
      "source": [
        "iii. WAP to sort L in ascending order."
      ],
      "metadata": {
        "id": "6hcWGrbhKLqM"
      }
    },
    {
      "cell_type": "code",
      "source": [
        "L = [10, 20, 30, 40, 50, 60, 70, 80]\n",
        "L.sort()\n",
        "print(L)"
      ],
      "metadata": {
        "colab": {
          "base_uri": "https://localhost:8080/"
        },
        "id": "9YNf42L4KLXR",
        "outputId": "9fd09ddd-0c1e-457b-a742-848d7c3f5ce3"
      },
      "execution_count": 4,
      "outputs": [
        {
          "output_type": "stream",
          "name": "stdout",
          "text": [
            "[10, 20, 30, 40, 50, 60, 70, 80]\n"
          ]
        }
      ]
    },
    {
      "cell_type": "markdown",
      "source": [
        "iv. WAP to sort L in descending order."
      ],
      "metadata": {
        "id": "4kCOvk-hKbS9"
      }
    },
    {
      "cell_type": "code",
      "source": [
        "L = [10, 20, 30, 40, 50, 60, 70, 80]\n",
        "L.sort(reverse=True)\n",
        "print(L)"
      ],
      "metadata": {
        "colab": {
          "base_uri": "https://localhost:8080/"
        },
        "id": "WZ-4pfudKbES",
        "outputId": "cb4b6e4a-84dd-4553-ed0d-002664b2f308"
      },
      "execution_count": 5,
      "outputs": [
        {
          "output_type": "stream",
          "name": "stdout",
          "text": [
            "[80, 70, 60, 50, 40, 30, 20, 10]\n"
          ]
        }
      ]
    },
    {
      "cell_type": "markdown",
      "source": [
        "2. Create a tuple of marks scored as scores = (45, 89.5, 76, 45.4, 89, 92, 58, 45) and\n",
        "perform the following operations using tuple functions:\n",
        "\n",
        "i. Identify the highest score and its index in the tuple."
      ],
      "metadata": {
        "id": "H3Q-uZZ8Ko10"
      }
    },
    {
      "cell_type": "code",
      "source": [
        "score = (45, 89.5, 76, 45.4, 89, 92, 58, 45)\n",
        "\n",
        "highest_score = max(score)\n",
        "highest_index = score.index(highest_score)\n",
        "print(f\"The highest score is {highest_score} at index {highest_index}.\")"
      ],
      "metadata": {
        "colab": {
          "base_uri": "https://localhost:8080/"
        },
        "id": "OzER6LWyKolG",
        "outputId": "70bd7994-4340-41d8-f7d4-40cbddca6411"
      },
      "execution_count": 11,
      "outputs": [
        {
          "output_type": "stream",
          "name": "stdout",
          "text": [
            "The highest score is 92 at index 5.\n"
          ]
        }
      ]
    },
    {
      "cell_type": "markdown",
      "source": [
        "ii. Find the lowest score and count how many times it appears."
      ],
      "metadata": {
        "id": "6ANT9vlaLhAB"
      }
    },
    {
      "cell_type": "code",
      "source": [
        "score = (45, 89.5, 76, 45.4, 89, 92, 58, 45)\n",
        "\n",
        "lowest_score = min(score)\n",
        "lowest_index = score.index(lowest_score)\n",
        "print(f\"The lowest score is {lowest_score} at index {lowest_index}.\")"
      ],
      "metadata": {
        "colab": {
          "base_uri": "https://localhost:8080/"
        },
        "id": "w-whHPSDLgtU",
        "outputId": "1f5c348f-c34a-40f4-e6ad-50d9bcff946f"
      },
      "execution_count": 12,
      "outputs": [
        {
          "output_type": "stream",
          "name": "stdout",
          "text": [
            "The lowest score is 45 at index 0.\n"
          ]
        }
      ]
    },
    {
      "cell_type": "markdown",
      "source": [
        "\n",
        "iii. Reverse the tuple and return it as a list."
      ],
      "metadata": {
        "id": "wIyk9bmfMj9J"
      }
    },
    {
      "cell_type": "code",
      "source": [
        "score = (45, 89.5, 76, 45.4, 89, 92, 58, 45)\n",
        "reversed_list = list(score)[::-1]\n",
        "print(\"Reversed list:\", reversed_list)"
      ],
      "metadata": {
        "colab": {
          "base_uri": "https://localhost:8080/"
        },
        "id": "MvkLwdAFMjo6",
        "outputId": "3bdba070-b631-4668-ec41-71b26ee138d7"
      },
      "execution_count": 13,
      "outputs": [
        {
          "output_type": "stream",
          "name": "stdout",
          "text": [
            "Reversed list: [45, 58, 92, 89, 45.4, 76, 89.5, 45]\n"
          ]
        }
      ]
    },
    {
      "cell_type": "markdown",
      "source": [
        "iv. Check if a specific score ‘76’ (input by the user) is present in the tuple and\n",
        "print its first occurrence index, or a message saying it’s not present."
      ],
      "metadata": {
        "id": "PzYv_9IXNEM9"
      }
    },
    {
      "cell_type": "code",
      "source": [
        "\n",
        "scores = (45, 89.5, 76, 45.4, 89, 92, 58, 45)\n",
        "\n",
        "score_to_find = float(input(\"Enter the score to check: \"))\n",
        "if score_to_find in scores:\n",
        "    index = scores.index(score_to_find)\n",
        "    print(f\"The score {score_to_find} is present at index {index}.\")\n",
        "else:\n",
        "    print(f\"The score {score_to_find} is not present in the tuple.\")\n"
      ],
      "metadata": {
        "colab": {
          "base_uri": "https://localhost:8080/"
        },
        "id": "osPt384sND4V",
        "outputId": "15ebefa0-f265-4a59-9caf-618a4ab6de11"
      },
      "execution_count": 14,
      "outputs": [
        {
          "output_type": "stream",
          "name": "stdout",
          "text": [
            "Enter the score to check: 10\n",
            "The score 10.0 is not present in the tuple.\n"
          ]
        }
      ]
    },
    {
      "cell_type": "markdown",
      "source": [
        "3. WAP to create a list of 100 random numbers between 100 and 900. Count and print\n",
        "the:\n",
        "\n",
        "i. All odd numbers"
      ],
      "metadata": {
        "id": "98eeYUzUOYEx"
      }
    },
    {
      "cell_type": "code",
      "source": [
        "import random\n",
        "\n",
        "random_numbers = [random.randint(100, 900) for _ in range(100)]\n",
        "\n",
        "odd_numbers = [num for num in random_numbers if num % 2 != 0]\n",
        "\n",
        "print(f\"All odd numbers: {odd_numbers}\")\n",
        "print(f\"Count of odd numbers: {len(odd_numbers)}\")\n"
      ],
      "metadata": {
        "colab": {
          "base_uri": "https://localhost:8080/"
        },
        "id": "4Tfm490rOXyT",
        "outputId": "95460110-22ed-40e5-dc4e-76679abdf919"
      },
      "execution_count": 15,
      "outputs": [
        {
          "output_type": "stream",
          "name": "stdout",
          "text": [
            "All odd numbers: [237, 851, 301, 223, 233, 383, 729, 407, 209, 439, 375, 651, 751, 329, 501, 159, 225, 191, 729, 861, 717, 851, 745, 207, 529, 227, 469, 311, 723, 413, 711, 817, 803, 619, 855, 401, 755, 291, 821, 271, 179, 503, 753, 495, 593, 367, 413, 493]\n",
            "Count of odd numbers: 48\n"
          ]
        }
      ]
    },
    {
      "cell_type": "markdown",
      "source": [
        "ii. All even numbers"
      ],
      "metadata": {
        "id": "1If9GHGcQRGh"
      }
    },
    {
      "cell_type": "code",
      "source": [
        "import random\n",
        "\n",
        "random_numbers = [random.randint(100, 900) for _ in range(100)]\n",
        "\n",
        "even_numbers = [num for num in random_numbers if num % 2 == 0]\n",
        "\n",
        "print(f\"All even numbers: {even_numbers}\")\n",
        "print(f\"Count of even numbers: {len(even_numbers)}\")"
      ],
      "metadata": {
        "colab": {
          "base_uri": "https://localhost:8080/"
        },
        "id": "JQIGXZZJQQ0f",
        "outputId": "a73bce8b-0318-434c-9f46-7f266219e3d7"
      },
      "execution_count": 20,
      "outputs": [
        {
          "output_type": "stream",
          "name": "stdout",
          "text": [
            "All even numbers: [696, 710, 520, 184, 252, 270, 642, 290, 566, 772, 614, 766, 544, 814, 854, 312, 376, 620, 308, 304, 284, 636, 402, 330, 726, 376, 646, 476, 448, 446, 620, 738, 172, 154, 842, 598, 198, 624, 176, 230, 112, 590, 818, 860, 264, 178, 618, 384, 666]\n",
            "Count of even numbers: 49\n"
          ]
        }
      ]
    },
    {
      "cell_type": "markdown",
      "source": [
        "iii. All prime numbers"
      ],
      "metadata": {
        "id": "F2sbsq_9RC9p"
      }
    },
    {
      "cell_type": "code",
      "source": [
        "import random\n",
        "def is_prime(num):\n",
        "    if num <= 1:\n",
        "        return False\n",
        "    for i in range(2, int(num ** 0.5) + 1):\n",
        "        if num % i == 0:\n",
        "            return False\n",
        "    return True\n",
        "random_numbers = [random.randint(100, 900) for _ in range(100)]\n",
        "\n",
        "prime_numbers = [num for num in random_numbers if is_prime(num)]\n",
        "\n",
        "print(f\"All prime numbers: {prime_numbers}\")\n",
        "print(f\"Count of prime numbers: {len(prime_numbers)}\")\n"
      ],
      "metadata": {
        "colab": {
          "base_uri": "https://localhost:8080/"
        },
        "id": "vPVAUCx6RCsX",
        "outputId": "8ef35ea0-daa5-43a3-98c6-e8f3c6d8a1e0"
      },
      "execution_count": 21,
      "outputs": [
        {
          "output_type": "stream",
          "name": "stdout",
          "text": [
            "All prime numbers: [223, 811, 509, 569, 599, 487, 739, 311, 881, 773, 547, 733, 439, 197, 433]\n",
            "Count of prime numbers: 15\n"
          ]
        }
      ]
    },
    {
      "cell_type": "markdown",
      "source": [
        "4. Consider the following two sets, A and B, represenƟng scores of two teams in mulƟple\n",
        "matches. A = {34, 56, 78, 90} and B = {78, 45, 90, 23}\n",
        "WAP to perform the following operaƟons using set funcƟons:\n",
        "\n",
        "i. Find the unique scores achieved by both teams (union of sets)."
      ],
      "metadata": {
        "id": "MGZz0xZ5Rzqc"
      }
    },
    {
      "cell_type": "code",
      "source": [
        "\n",
        "A = {34, 56, 78, 90}\n",
        "B = {78, 45, 90, 23}\n",
        "\n",
        "unique_scores = A.union(B)\n",
        "\n",
        "\n",
        "print(\"Unique scores achieved by both teams:\", unique_scores)\n"
      ],
      "metadata": {
        "colab": {
          "base_uri": "https://localhost:8080/"
        },
        "id": "TQ6v_0jzRzZ3",
        "outputId": "d694ec7d-3e42-482a-d797-400c0fbe8f1a"
      },
      "execution_count": 22,
      "outputs": [
        {
          "output_type": "stream",
          "name": "stdout",
          "text": [
            "Unique scores achieved by both teams: {34, 45, 78, 23, 56, 90}\n"
          ]
        }
      ]
    },
    {
      "cell_type": "markdown",
      "source": [
        "ii. Identify the scores that are common to both teams (intersecƟon of sets)."
      ],
      "metadata": {
        "id": "S_yzaNxTSGOX"
      }
    },
    {
      "cell_type": "code",
      "source": [
        "\n",
        "A = {34, 56, 78, 90}\n",
        "B = {78, 45, 90, 23}\n",
        "\n",
        "common_scores = A.intersection(B)  # Using the intersection() method\n",
        "\n",
        "\n",
        "print(\"Scores common to both teams:\", common_scores)\n"
      ],
      "metadata": {
        "colab": {
          "base_uri": "https://localhost:8080/"
        },
        "id": "KvOQS4w8SF91",
        "outputId": "1d5e8068-8f18-4868-9626-28c3f6a0b26c"
      },
      "execution_count": 23,
      "outputs": [
        {
          "output_type": "stream",
          "name": "stdout",
          "text": [
            "Scores common to both teams: {90, 78}\n"
          ]
        }
      ]
    },
    {
      "cell_type": "markdown",
      "source": [
        "iii. Find the scores that are exclusive to each team (symmetric difference)."
      ],
      "metadata": {
        "id": "rnAAfjZiSLlK"
      }
    },
    {
      "cell_type": "code",
      "source": [
        "\n",
        "A = {34, 56, 78, 90}\n",
        "B = {78, 45, 90, 23}\n",
        "\n",
        "exclusive_scores = A.symmetric_difference(B)\n",
        "\n",
        "print(\"Scores exclusive to each team:\", exclusive_scores)\n"
      ],
      "metadata": {
        "colab": {
          "base_uri": "https://localhost:8080/"
        },
        "id": "e3bdtpDSSLUr",
        "outputId": "7cd9c11d-7901-4e92-94cc-3eb9d7c7d1fd"
      },
      "execution_count": 24,
      "outputs": [
        {
          "output_type": "stream",
          "name": "stdout",
          "text": [
            "Scores exclusive to each team: {34, 45, 23, 56}\n"
          ]
        }
      ]
    },
    {
      "cell_type": "markdown",
      "source": [
        "iv. Check if the scores of team A are a subset of team B, and if team B's scores are\n",
        "a superset of team A."
      ],
      "metadata": {
        "id": "9aCqcLyTSQXl"
      }
    },
    {
      "cell_type": "code",
      "source": [
        "\n",
        "A = {34, 56, 78, 90}\n",
        "B = {78, 45, 90, 23}\n",
        "\n",
        "is_subset = A.issubset(B)\n",
        "\n",
        "is_superset = B.issuperset(A)\n",
        "\n",
        "print(f\"Is team A's scores a subset of team B? {is_subset}\")\n",
        "print(f\"Is team B's scores a superset of team A? {is_superset}\")\n"
      ],
      "metadata": {
        "colab": {
          "base_uri": "https://localhost:8080/"
        },
        "id": "8ahXB5kuSQJS",
        "outputId": "ed616993-131d-4c2c-d0dc-a7315727ffee"
      },
      "execution_count": 25,
      "outputs": [
        {
          "output_type": "stream",
          "name": "stdout",
          "text": [
            "Is team A's scores a subset of team B? False\n",
            "Is team B's scores a superset of team A? False\n"
          ]
        }
      ]
    },
    {
      "cell_type": "markdown",
      "source": [
        "v. Remove a specific score X (input by the user) from set A if it exists. If not, print\n",
        "a message saying it is not present."
      ],
      "metadata": {
        "id": "ODY3AyPWSVso"
      }
    },
    {
      "cell_type": "code",
      "source": [
        "\n",
        "\n",
        "A = {34, 56, 78, 90}\n",
        "\n",
        "score_to_remove = int(input(\"Enter the score to remove: \"))\n",
        "\n",
        "if score_to_remove in A:\n",
        "    A.remove(score_to_remove)\n",
        "    print(f\"Score {score_to_remove} has been removed from set A.\")\n",
        "else:\n",
        "    print(f\"Score {score_to_remove} is not present in set A.\")\n",
        "\n",
        "\n",
        "print(\"Updated set A:\", A)\n"
      ],
      "metadata": {
        "colab": {
          "base_uri": "https://localhost:8080/"
        },
        "id": "eKkNBQ5XSVbZ",
        "outputId": "f871c78f-969d-4630-cb9d-6e7c1521837a"
      },
      "execution_count": 27,
      "outputs": [
        {
          "output_type": "stream",
          "name": "stdout",
          "text": [
            "Enter the score to remove: 34\n",
            "Score 34 has been removed from set A.\n",
            "Updated set A: {56, 90, 78}\n"
          ]
        }
      ]
    },
    {
      "cell_type": "markdown",
      "source": [
        "5. Write a program to rename a key city to a locaƟon in the following dicƟonary."
      ],
      "metadata": {
        "id": "biWfWDw-TmUd"
      }
    },
    {
      "cell_type": "code",
      "source": [
        "d={\"name\":\"kelly\",\"age\":25,\"salary\":8000,\"city\":\"new york\"}\n",
        "\n",
        "if \"city\" in d:\n",
        "    d[\"location\"]=d.pop(\"city\")\n",
        "    print(\"successful\")\n",
        "else:\n",
        "    print(\"not successful\")\n",
        "print(\"updated dictionary:\",d)"
      ],
      "metadata": {
        "colab": {
          "base_uri": "https://localhost:8080/"
        },
        "id": "TzhwAbD7Tl9Z",
        "outputId": "53d58b6d-bd08-459c-87d1-c1bc95cc1d32"
      },
      "execution_count": 28,
      "outputs": [
        {
          "output_type": "stream",
          "name": "stdout",
          "text": [
            "successful\n",
            "updated dictionary: {'name': 'kelly', 'age': 25, 'salary': 8000, 'location': 'new york'}\n"
          ]
        }
      ]
    }
  ]
}