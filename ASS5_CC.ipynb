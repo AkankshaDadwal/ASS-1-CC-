{
  "nbformat": 4,
  "nbformat_minor": 0,
  "metadata": {
    "colab": {
      "provenance": []
    },
    "kernelspec": {
      "name": "python3",
      "display_name": "Python 3"
    },
    "language_info": {
      "name": "python"
    }
  },
  "cells": [
    {
      "cell_type": "markdown",
      "source": [
        "Q 1 For the array gfg = np.matrix('[4, 1, 9; 12, 3, 1; 4, 5, 6]'), Find\n",
        "\n",
        "i. Sum of all elements\n",
        "\n",
        "ii. Sum of all elements row-wise\n",
        "\n",
        "iii. Sum of all elements column-wise"
      ],
      "metadata": {
        "id": "u5L3KIsdF_tS"
      }
    },
    {
      "cell_type": "code",
      "execution_count": 1,
      "metadata": {
        "colab": {
          "base_uri": "https://localhost:8080/"
        },
        "id": "XufmWFrNFoKW",
        "outputId": "b1645277-643f-4dc9-dad3-1aeffe303582"
      },
      "outputs": [
        {
          "output_type": "stream",
          "name": "stdout",
          "text": [
            "Original Matrix:\n",
            " [[ 4  1  9]\n",
            " [12  3  1]\n",
            " [ 4  5  6]]\n",
            "\n",
            "Sum of all elements: 45\n",
            "Sum of all elements row-wise:\n",
            " [[14]\n",
            " [16]\n",
            " [15]]\n",
            "Sum of all elements column-wise:\n",
            " [[20  9 16]]\n"
          ]
        }
      ],
      "source": [
        "import numpy as np\n",
        "\n",
        "# Creating the matrix gfg\n",
        "gfg = np.matrix('[4, 1, 9; 12, 3, 1; 4, 5, 6]')\n",
        "\n",
        "# i. Sum of all elements\n",
        "total_sum = np.sum(gfg)\n",
        "\n",
        "# ii. Sum of all elements row-wise (axis=1)\n",
        "row_wise_sum = np.sum(gfg, axis=1)\n",
        "\n",
        "# iii. Sum of all elements column-wise (axis=0)\n",
        "column_wise_sum = np.sum(gfg, axis=0)\n",
        "\n",
        "# Printing results\n",
        "print(\"Original Matrix:\\n\", gfg)\n",
        "print(\"\\nSum of all elements:\", total_sum)\n",
        "print(\"Sum of all elements row-wise:\\n\", row_wise_sum)\n",
        "print(\"Sum of all elements column-wise:\\n\", column_wise_sum)\n"
      ]
    },
    {
      "cell_type": "markdown",
      "source": [
        "Q.2 (a)For the array: array = np.array([10, 52, 62, 16, 16, 54, 453]), find\n",
        "\n",
        "i. Sorted array\n",
        "ii. Indices of sorted array\n",
        "\n",
        "iii. 4 smallest elements\n",
        "iv. 5 largest elements\n",
        "\n",
        "(b) For the array: array = np.array([1.0, 1.2, 2.2, 2.0, 3.0, 2.0]), find\n",
        "\n",
        "i. Integer elements only\n",
        "ii. Float elements only"
      ],
      "metadata": {
        "id": "shtFaHH_GTTg"
      }
    },
    {
      "cell_type": "code",
      "source": [
        "import numpy as np\n",
        "\n",
        "# (a) Given array\n",
        "array_a = np.array([10, 52, 62, 16, 16, 54, 453])\n",
        "\n",
        "# i. Sorted array\n",
        "sorted_array = np.sort(array_a)\n",
        "\n",
        "# ii. Indices of sorted array\n",
        "sorted_indices = np.argsort(array_a)\n",
        "\n",
        "# iii. 4 smallest elements\n",
        "smallest_4 = np.sort(array_a)[:4]\n",
        "\n",
        "# iv. 5 largest elements\n",
        "largest_5 = np.sort(array_a)[-5:]\n",
        "\n",
        "# Printing results for (a)\n",
        "print(\"(a) Given array:\", array_a)\n",
        "print(\"i. Sorted array:\", sorted_array)\n",
        "print(\"ii. Indices of sorted array:\", sorted_indices)\n",
        "print(\"iii. 4 Smallest elements:\", smallest_4)\n",
        "print(\"iv. 5 Largest elements:\", largest_5)\n",
        "\n",
        "# (b) Given array\n",
        "array_b = np.array([1.0, 1.2, 2.2, 2.0, 3.0, 2.0])\n",
        "\n",
        "# i. Extracting integer elements\n",
        "integer_elements = array_b[array_b == array_b.astype(int)]\n",
        "\n",
        "# ii. Extracting float elements only (excluding integers)\n",
        "float_elements = array_b[array_b != array_b.astype(int)]\n",
        "\n",
        "# Printing results for (b)\n",
        "print(\"\\n(b) Given array:\", array_b)\n",
        "print(\"i. Integer elements only:\", integer_elements)\n",
        "print(\"ii. Float elements only:\", float_elements)\n"
      ],
      "metadata": {
        "colab": {
          "base_uri": "https://localhost:8080/"
        },
        "id": "FLOX7RwmGS_D",
        "outputId": "70173a33-4984-42e5-daaf-b10991557c13"
      },
      "execution_count": 2,
      "outputs": [
        {
          "output_type": "stream",
          "name": "stdout",
          "text": [
            "(a) Given array: [ 10  52  62  16  16  54 453]\n",
            "i. Sorted array: [ 10  16  16  52  54  62 453]\n",
            "ii. Indices of sorted array: [0 3 4 1 5 2 6]\n",
            "iii. 4 Smallest elements: [10 16 16 52]\n",
            "iv. 5 Largest elements: [ 16  52  54  62 453]\n",
            "\n",
            "(b) Given array: [1.  1.2 2.2 2.  3.  2. ]\n",
            "i. Integer elements only: [1. 2. 3. 2.]\n",
            "ii. Float elements only: [1.2 2.2]\n"
          ]
        }
      ]
    },
    {
      "cell_type": "markdown",
      "source": [
        "Q.3 You are given a weekly sales dataset and need to perform various operations\n",
        "using NumPy broadcasting.\n",
        "\n",
        "a) Generate your unique sales dataset:\n",
        " Take the sum of the ASCII values of the initials of your first and last\n",
        "name. Call this value X. (If your initials are A B → ASCII sum = 65\n",
        "+ 66 = 131 → sales = [131, 181, 231, 281, 331].)\n",
        " Create a NumPy array sales with values [X, X+50, X+100, X+150,\n",
        "X+200].\n",
        "\n",
        "b) Compute your personalized tax rate as ((X % 5) + 5) / 100.\n",
        " Use broadcasting to apply this tax rate to each sales value.\n",
        "\n",
        "c) Adjust sales based on discount:\n",
        " If sales < X+100, apply a 5% discount.\n",
        " If sales >= X+100, apply a 10% discount.\n",
        "\n",
        "d) Expand sales data for multiple weeks:\n",
        " Create a 3×5 matrix representing three weeks of sales by stacking\n",
        "sales three times using broadcasting.\n",
        " Increase sales by 2% per week using element-wise broadcasting."
      ],
      "metadata": {
        "id": "RPVZK_22chSr"
      }
    },
    {
      "cell_type": "code",
      "source": [
        "import numpy as np\n",
        "\n",
        "# Step (a) Generate Unique Sales Dataset\n",
        "initials = 'A', 'B'  # Replace with your initials\n",
        "X = sum(ord(char) for char in initials)  # Compute ASCII sum\n",
        "\n",
        "# Create sales array: [X, X+50, X+100, X+150, X+200]\n",
        "sales = np.array([X, X+50, X+100, X+150, X+200])\n",
        "print(\"Initials:\", initials)\n",
        "print(\"ASCII Sum (X):\", X)\n",
        "print(\"Sales Data:\", sales)\n",
        "\n",
        "# Step (b) Compute personalized tax rate\n",
        "tax_rate = ((X % 5) + 5) / 100  # Compute tax rate\n",
        "taxed_sales = sales * (1 + tax_rate)  # Apply tax using broadcasting\n",
        "print(\"\\nTax Rate:\", tax_rate)\n",
        "print(\"Sales After Tax:\", taxed_sales)\n",
        "\n",
        "# Step (c) Adjust sales based on discount\n",
        "discounts = np.where(sales < X+100, 0.95, 0.90)  # 5% for sales < X+100, else 10%\n",
        "discounted_sales = sales * discounts  # Apply discount\n",
        "print(\"\\nDiscounted Sales:\", discounted_sales)\n",
        "\n",
        "# Step (d) Expand sales data for multiple weeks\n",
        "weekly_sales = np.vstack([sales] * 3)  # Stack sales array 3 times for 3 weeks\n",
        "weekly_multipliers = np.array([1.00, 1.02, 1.04])[:, np.newaxis]  # 2% increase per week\n",
        "adjusted_weekly_sales = weekly_sales * weekly_multipliers  # Apply week-wise increment\n",
        "\n",
        "print(\"\\nWeekly Sales Data:\\n\", adjusted_weekly_sales)\n"
      ],
      "metadata": {
        "colab": {
          "base_uri": "https://localhost:8080/"
        },
        "id": "KX3URdipcg9q",
        "outputId": "a13c2e83-7887-4e4c-9d5c-23b3daf6a011"
      },
      "execution_count": 2,
      "outputs": [
        {
          "output_type": "stream",
          "name": "stdout",
          "text": [
            "Initials: ('A', 'B')\n",
            "ASCII Sum (X): 131\n",
            "Sales Data: [131 181 231 281 331]\n",
            "\n",
            "Tax Rate: 0.06\n",
            "Sales After Tax: [138.86 191.86 244.86 297.86 350.86]\n",
            "\n",
            "Discounted Sales: [124.45 171.95 207.9  252.9  297.9 ]\n",
            "\n",
            "Weekly Sales Data:\n",
            " [[131.   181.   231.   281.   331.  ]\n",
            " [133.62 184.62 235.62 286.62 337.62]\n",
            " [136.24 188.24 240.24 292.24 344.24]]\n"
          ]
        }
      ]
    },
    {
      "cell_type": "markdown",
      "source": [
        "Q4. Generate x values using np.linspace() from -10 to 10 with 100 points. Use\n",
        "each function from the list below and compute y values using NumPy:\n",
        "\n",
        "a)Y = x2\n",
        "b) Y = sin(x)\n",
        "\n",
        "c) Y = ex\n",
        "d)Y = log(|x| + 1)\n",
        "Plot the chosen function using Matplotlib. Add title, labels, and grid for clarity."
      ],
      "metadata": {
        "id": "ke0_uhfWeFla"
      }
    },
    {
      "cell_type": "code",
      "source": [
        "import numpy as np\n",
        "import matplotlib.pyplot as plt\n",
        "\n",
        "# Generate x values from -10 to 10 with 100 points\n",
        "x = np.linspace(-10, 10, 100)\n",
        "\n",
        "# Compute y values using the given functions\n",
        "y1 = x**2               # Y = x^2\n",
        "y2 = np.sin(x)          # Y = sin(x)\n",
        "y3 = np.exp(x)          # Y = e^x\n",
        "y4 = np.log(np.abs(x) + 1)  # Y = log(|x| + 1)\n",
        "\n",
        "# Plot all functions\n",
        "plt.figure(figsize=(10, 6))\n",
        "\n",
        "plt.plot(x, y1, label=r'$y = x^2$', linestyle='-', color='b')\n",
        "plt.plot(x, y2, label=r'$y = \\sin(x)$', linestyle='--', color='r')\n",
        "plt.plot(x, y3, label=r'$y = e^x$', linestyle='-.', color='g')\n",
        "plt.plot(x, y4, label=r'$y = \\log(|x| + 1)$', linestyle=':', color='m')\n",
        "\n",
        "# Add title, labels, legend, and grid\n",
        "plt.title(\"Function Plots using NumPy & Matplotlib\")\n",
        "plt.xlabel(\"x values\")\n",
        "plt.ylabel(\"y values\")\n",
        "plt.legend()\n",
        "plt.grid(True)\n",
        "\n",
        "# Show the plot\n",
        "plt.show()\n"
      ],
      "metadata": {
        "colab": {
          "base_uri": "https://localhost:8080/",
          "height": 564
        },
        "id": "p-OPjJCNeFTs",
        "outputId": "966d1feb-5fca-4d0a-dd03-e18a4370a775"
      },
      "execution_count": 3,
      "outputs": [
        {
          "output_type": "display_data",
          "data": {
            "text/plain": [
              "<Figure size 1000x600 with 1 Axes>"
            ],
            "image/png": "[encoded data removed]"
          },
          "metadata": {}
        }
      ]
    }
  ]
}