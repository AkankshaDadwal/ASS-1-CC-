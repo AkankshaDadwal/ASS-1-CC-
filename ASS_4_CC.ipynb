{
  "nbformat": 4,
  "nbformat_minor": 0,
  "metadata": {
    "colab": {
      "provenance": []
    },
    "kernelspec": {
      "name": "python3",
      "display_name": "Python 3"
    },
    "language_info": {
      "name": "python"
    }
  },
  "cells": [
    {
      "cell_type": "markdown",
      "source": [
        "Q 1 Write a program to create a NumPy 1D-array with 5 elements and perform basic\n",
        "operations like:\n",
        "\n",
        "a) Addition of 2 in all the element\n",
        "\n",
        "b) Multiply 3 with all the elements\n",
        "\n",
        "c) Divide every element by 2"
      ],
      "metadata": {
        "id": "2ybx_V0Y_fur"
      }
    },
    {
      "cell_type": "code",
      "execution_count": null,
      "metadata": {
        "colab": {
          "base_uri": "https://localhost:8080/"
        },
        "id": "hC2GH_DT_egW",
        "outputId": "a1f7e024-78bf-4dac-bc9e-8e933b35f68b"
      },
      "outputs": [
        {
          "output_type": "stream",
          "name": "stdout",
          "text": [
            "After addition of 2: [12 22 32 42 52]\n",
            "After multiplication by 3: [ 30  60  90 120 150]\n",
            "After division by 2: [ 5. 10. 15. 20. 25.]\n"
          ]
        }
      ],
      "source": [
        "import numpy as np\n",
        "\n",
        "\n",
        "arr = np.array([10, 20, 30, 40, 50])\n",
        "\n",
        "#  Addition\n",
        "arr_add = arr + 2\n",
        "print(\"After addition of 2:\", arr_add)\n",
        "\n",
        "# b) Multiplication\n",
        "arr_mul = arr * 3\n",
        "print(\"After multiplication by 3:\", arr_mul)\n",
        "\n",
        "# c) Division\n",
        "arr_div = arr / 2\n",
        "print(\"After division by 2:\", arr_div)\n"
      ]
    },
    {
      "cell_type": "markdown",
      "source": [
        "Q.2 Questions on Basic NumPy Array:\n",
        "\n",
        "a) Reverse the NumPy array: arr = np.array([1, 2, 3, 6, 4, 5])\n",
        "\n",
        "b) Find the most frequent value and their indice(s) in the following arrays:\n",
        "\n",
        "i. x = np.array([1,2,3,4,5,1,2,1,1,1])\n",
        "\n",
        "ii. y = np.array([1, 1, 1, 2, 3, 4, 2, 4, 3, 3, ])"
      ],
      "metadata": {
        "id": "FSsqDK2eAUHZ"
      }
    },
    {
      "cell_type": "code",
      "source": [
        "arr_rev = np.array([1, 2, 3, 6, 4, 5])[::-1]\n",
        "print(\"Reversed array:\", arr_rev)"
      ],
      "metadata": {
        "colab": {
          "base_uri": "https://localhost:8080/"
        },
        "id": "4glpqt_xATzo",
        "outputId": "4662bb9b-e79f-4dcc-bc05-f13ac1c5e641"
      },
      "execution_count": null,
      "outputs": [
        {
          "output_type": "stream",
          "name": "stdout",
          "text": [
            "Reversed array: [5 4 6 3 2 1]\n"
          ]
        }
      ]
    },
    {
      "cell_type": "code",
      "source": [
        "def most_frequent(arr):\n",
        "    values, counts = np.unique(arr, return_counts=True)\n",
        "    max_count = np.max(counts)\n",
        "    most_frequent_value = values[np.argmax(counts)]\n",
        "    indices = np.where(arr == most_frequent_value)[0]\n",
        "    return most_frequent_value, indices\n",
        "\n",
        "x = np.array([1, 2, 3, 4, 5, 1, 2, 1, 1, 1])\n",
        "y = np.array([1, 1, 1, 2, 3, 4, 2, 4, 3, 3])\n",
        "\n",
        "x_value, x_indices = most_frequent(x)\n",
        "y_value, y_indices = most_frequent(y)\n",
        "\n",
        "print(f\"Most frequent value in x: {x_value}, Indices: {x_indices}\")\n",
        "print(f\"Most frequent value in y: {y_value}, Indices: {y_indices}\")\n"
      ],
      "metadata": {
        "colab": {
          "base_uri": "https://localhost:8080/"
        },
        "id": "hmgHobLsAsvK",
        "outputId": "855a5fe9-af4e-4cd6-d6a6-9a627693664b"
      },
      "execution_count": null,
      "outputs": [
        {
          "output_type": "stream",
          "name": "stdout",
          "text": [
            "Most frequent value in x: 1, Indices: [0 5 7 8 9]\n",
            "Most frequent value in y: 1, Indices: [0 1 2]\n"
          ]
        }
      ]
    },
    {
      "cell_type": "markdown",
      "source": [
        "Q.3 For the given 2-D array arr=np.array([10, 20, 30], [40, 50, 60], [70, 80, 90]), access\n",
        "elements using row and column indices as follows:\n",
        "\n",
        "a) Access 1st row, 2nd column\n",
        "\n",
        "b) Access 3rd row, 1st column"
      ],
      "metadata": {
        "id": "YvhnrpVLwrtK"
      }
    },
    {
      "cell_type": "code",
      "source": [
        "import numpy as np\n",
        "\n",
        "arr = np.array([[10, 20, 30],\n",
        "                [40, 50, 60],\n",
        "                [70, 80, 90]])\n",
        "print(arr[0, 1])\n",
        "print(arr[2, 0])\n"
      ],
      "metadata": {
        "id": "ifoOU3WHwrTY",
        "colab": {
          "base_uri": "https://localhost:8080/"
        },
        "outputId": "ae61effb-cb60-414d-f3a1-c16513e9628f"
      },
      "execution_count": 1,
      "outputs": [
        {
          "output_type": "stream",
          "name": "stdout",
          "text": [
            "20\n",
            "70\n"
          ]
        }
      ]
    },
    {
      "cell_type": "markdown",
      "source": [
        "Q 3 Write program to create an 1-D NumPy array named <<Your Name>> with evenly\n",
        "spaced 25 numbers from 10 to 100 using linspace(). Print the dimensions of the array,\n",
        "shape, total elements, the data type of each element and total number of bytes consumed\n",
        "by the array. Find the transpose of this array using reshape() attribute. Can we do the same\n",
        "with T attribute?"
      ],
      "metadata": {
        "id": "8YY-RBBhDcNA"
      }
    },
    {
      "cell_type": "code",
      "source": [
        "import numpy as np\n",
        "\n",
        "# Create a 1-D array with 25 evenly spaced numbers from 10 to 100\n",
        "your_name = np.linspace(10, 100, 25)\n",
        "\n",
        "# Print array properties\n",
        "print(\"Array:\", your_name)\n",
        "print(\"Dimensions of the array:\", your_name.ndim)\n",
        "print(\"Shape of the array:\", your_name.shape)\n",
        "print(\"Total number of elements:\", your_name.size)\n",
        "print(\"Data type of each element:\", your_name.dtype)\n",
        "print(\"Total bytes consumed by the array:\", your_name.nbytes)\n",
        "\n",
        "# Find the \"transpose\" using reshape\n",
        "reshaped_array = your_name.reshape(25, 1)\n",
        "print(\"\\nReshaped Array (Transpose using reshape):\\n\", reshaped_array)\n",
        "\n",
        "# Check if we can use T attribute for transpose\n",
        "transposed_array = your_name.T\n",
        "print(\"\\nTransposed Array using T attribute:\\n\", transposed_array)\n",
        "\n",
        "# Explanation\n",
        "if np.array_equal(your_name, transposed_array):\n",
        "    print(\"\\n The T attribute does not work for 1-D arrays, as they remain unchanged!\")\n"
      ],
      "metadata": {
        "colab": {
          "base_uri": "https://localhost:8080/"
        },
        "id": "ptFf3m-PDbx6",
        "outputId": "4bd8b5d8-4bf1-457b-8ec3-b8cb0bf42f2a"
      },
      "execution_count": 2,
      "outputs": [
        {
          "output_type": "stream",
          "name": "stdout",
          "text": [
            "Array: [ 10.    13.75  17.5   21.25  25.    28.75  32.5   36.25  40.    43.75\n",
            "  47.5   51.25  55.    58.75  62.5   66.25  70.    73.75  77.5   81.25\n",
            "  85.    88.75  92.5   96.25 100.  ]\n",
            "Dimensions of the array: 1\n",
            "Shape of the array: (25,)\n",
            "Total number of elements: 25\n",
            "Data type of each element: float64\n",
            "Total bytes consumed by the array: 200\n",
            "\n",
            "Reshaped Array (Transpose using reshape):\n",
            " [[ 10.  ]\n",
            " [ 13.75]\n",
            " [ 17.5 ]\n",
            " [ 21.25]\n",
            " [ 25.  ]\n",
            " [ 28.75]\n",
            " [ 32.5 ]\n",
            " [ 36.25]\n",
            " [ 40.  ]\n",
            " [ 43.75]\n",
            " [ 47.5 ]\n",
            " [ 51.25]\n",
            " [ 55.  ]\n",
            " [ 58.75]\n",
            " [ 62.5 ]\n",
            " [ 66.25]\n",
            " [ 70.  ]\n",
            " [ 73.75]\n",
            " [ 77.5 ]\n",
            " [ 81.25]\n",
            " [ 85.  ]\n",
            " [ 88.75]\n",
            " [ 92.5 ]\n",
            " [ 96.25]\n",
            " [100.  ]]\n",
            "\n",
            "Transposed Array using T attribute:\n",
            " [ 10.    13.75  17.5   21.25  25.    28.75  32.5   36.25  40.    43.75\n",
            "  47.5   51.25  55.    58.75  62.5   66.25  70.    73.75  77.5   81.25\n",
            "  85.    88.75  92.5   96.25 100.  ]\n",
            "\n",
            " The T attribute does not work for 1-D arrays, as they remain unchanged!\n"
          ]
        }
      ]
    },
    {
      "cell_type": "markdown",
      "source": [
        "Q 4 Create a 2-D Array of three rows and four columns, named ucs420_<your_name>>\n",
        "with following values – 10, 20, 30, 40, 50, 60, 70, 80, 90, 15, 20, 35. Compute the mean,\n",
        "median, max, min, unique elements. Reshape the array to four rows and three columns and\n",
        "name it as reshaped_ ucs420_<your_name>>. Resize the array to two rows and three\n",
        "columns and name it as resized_ ucs420_<your_name>>."
      ],
      "metadata": {
        "id": "PLoEp8sYERHW"
      }
    },
    {
      "cell_type": "code",
      "source": [
        "import numpy as np\n",
        "ucs420_Akanksha = np.array([[10, 20, 30, 40],\n",
        "                            [50, 60, 70, 80],\n",
        "                            [90, 15, 20, 35]])\n",
        "\n",
        "# Computing mean, median, max, min, and unique elements\n",
        "mean_value = np.mean(ucs420_Akanksha)\n",
        "median_value = np.median(ucs420_Akanksha)\n",
        "max_value = np.max(ucs420_Akanksha)\n",
        "min_value = np.min(ucs420_Akanksha)\n",
        "unique_elements = np.unique(ucs420_Akanksha)\n",
        "\n",
        "# Printing results\n",
        "print(\"Original Array (ucs420_Akanksha):\\n\", ucs420_Akanksha)\n",
        "print(\"\\nMean:\", mean_value)\n",
        "print(\"Median:\", median_value)\n",
        "print(\"Max Value:\", max_value)\n",
        "print(\"Min Value:\", min_value)\n",
        "print(\"Unique Elements:\", unique_elements)\n",
        "\n",
        "# Reshaping to 4 rows and 3 columns\n",
        "reshaped_ucs420_Akanksha = ucs420_Akanksha.reshape(4, 3)\n",
        "print(\"\\nReshaped Array (4x3):\\n\", reshaped_ucs420_Akanksha)\n",
        "\n",
        "# Resizing to 2 rows and 3 columns (this changes the original array)\n",
        "resized_ucs420_Akanksha = np.resize(ucs420_Akanksha, (2, 3))\n",
        "print(\"\\nResized Array (2x3):\\n\", resized_ucs420_Akanksha)\n"
      ],
      "metadata": {
        "colab": {
          "base_uri": "https://localhost:8080/",
          "height": 453
        },
        "id": "43pIcYMNEQ0b",
        "outputId": "6690eb76-dd67-453a-b3d2-9e7aa6a11903"
      },
      "execution_count": 3,
      "outputs": [
        {
          "output_type": "stream",
          "name": "stdout",
          "text": [
            "Original Array (ucs420_Akanksha):\n",
            " [[10 20 30 40]\n",
            " [50 60 70 80]\n",
            " [90 15 20 35]]\n",
            "\n",
            "Mean: 43.333333333333336\n",
            "Median: 37.5\n",
            "Max Value: 90\n",
            "Min Value: 10\n",
            "Unique Elements: [10 15 20 30 35 40 50 60 70 80 90]\n",
            "\n",
            "Reshaped Array (4x3):\n",
            " [[10 20 30]\n",
            " [40 50 60]\n",
            " [70 80 90]\n",
            " [15 20 35]]\n"
          ]
        },
        {
          "output_type": "error",
          "ename": "NameError",
          "evalue": "name 'resized_ucs420_Akanksha' is not defined",
          "traceback": [
            "\u001b[0;31m---------------------------------------------------------------------------\u001b[0m",
            "\u001b[0;31mNameError\u001b[0m                                 Traceback (most recent call last)",
            "\u001b[0;32m<ipython-input-3-5b71b7e8a593>\u001b[0m in \u001b[0;36m<cell line: 0>\u001b[0;34m()\u001b[0m\n\u001b[1;32m     25\u001b[0m \u001b[0;31m# Resizing to 2 rows and 3 columns (this changes the original array)\u001b[0m\u001b[0;34m\u001b[0m\u001b[0;34m\u001b[0m\u001b[0m\n\u001b[1;32m     26\u001b[0m \u001b[0mresized_ucs420_yourname\u001b[0m \u001b[0;34m=\u001b[0m \u001b[0mnp\u001b[0m\u001b[0;34m.\u001b[0m\u001b[0mresize\u001b[0m\u001b[0;34m(\u001b[0m\u001b[0mucs420_Akanksha\u001b[0m\u001b[0;34m,\u001b[0m \u001b[0;34m(\u001b[0m\u001b[0;36m2\u001b[0m\u001b[0;34m,\u001b[0m \u001b[0;36m3\u001b[0m\u001b[0;34m)\u001b[0m\u001b[0;34m)\u001b[0m\u001b[0;34m\u001b[0m\u001b[0;34m\u001b[0m\u001b[0m\n\u001b[0;32m---> 27\u001b[0;31m \u001b[0mprint\u001b[0m\u001b[0;34m(\u001b[0m\u001b[0;34m\"\\nResized Array (2x3):\\n\"\u001b[0m\u001b[0;34m,\u001b[0m \u001b[0mresized_ucs420_Akanksha\u001b[0m\u001b[0;34m)\u001b[0m\u001b[0;34m\u001b[0m\u001b[0;34m\u001b[0m\u001b[0m\n\u001b[0m",
            "\u001b[0;31mNameError\u001b[0m: name 'resized_ucs420_Akanksha' is not defined"
          ]
        }
      ]
    }
  ]
}